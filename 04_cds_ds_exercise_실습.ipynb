{
 "cells": [
  {
   "cell_type": "markdown",
   "id": "98bff52e",
   "metadata": {},
   "source": [
    "## 단원별 심화 연습 문제"
   ]
  },
  {
   "cell_type": "code",
   "execution_count": 1,
   "id": "56ddd55a",
   "metadata": {},
   "outputs": [],
   "source": [
    "import numpy as np\n",
    "import pandas as pd\n",
    "import seaborn as sns\n",
    "import matplotlib.pyplot as plt\n",
    "import seaborn as sns\n",
    "import glob\n",
    "from IPython.display import Image\n",
    "\n",
    "# set floating point formatting\n",
    "pd.options.display.float_format = '{:,.6f}'.format"
   ]
  },
  {
   "cell_type": "markdown",
   "id": "4f897256",
   "metadata": {},
   "source": [
    "### Q2\n",
    "\n",
    "**범위**\n",
    "- (이전 범위 포함)\n",
    "- 통계 및 연산"
   ]
  },
  {
   "cell_type": "markdown",
   "id": "0abde53d",
   "metadata": {},
   "source": [
    "`/mnt/elice/dataset/StudentsPerformance.csv`파일을 읽어서 DataFrame 형식으로 출력합니다. (상위 5개 행을 출력 합니다.)"
   ]
  },
  {
   "cell_type": "code",
   "execution_count": 3,
   "id": "a0e026a5",
   "metadata": {},
   "outputs": [
    {
     "data": {
      "text/html": [
       "<div>\n",
       "<style scoped>\n",
       "    .dataframe tbody tr th:only-of-type {\n",
       "        vertical-align: middle;\n",
       "    }\n",
       "\n",
       "    .dataframe tbody tr th {\n",
       "        vertical-align: top;\n",
       "    }\n",
       "\n",
       "    .dataframe thead th {\n",
       "        text-align: right;\n",
       "    }\n",
       "</style>\n",
       "<table border=\"1\" class=\"dataframe\">\n",
       "  <thead>\n",
       "    <tr style=\"text-align: right;\">\n",
       "      <th></th>\n",
       "      <th>gender</th>\n",
       "      <th>race/ethnicity</th>\n",
       "      <th>parental level of education</th>\n",
       "      <th>lunch</th>\n",
       "      <th>test preparation course</th>\n",
       "      <th>math score</th>\n",
       "      <th>reading score</th>\n",
       "      <th>writing score</th>\n",
       "    </tr>\n",
       "  </thead>\n",
       "  <tbody>\n",
       "    <tr>\n",
       "      <th>0</th>\n",
       "      <td>female</td>\n",
       "      <td>group B</td>\n",
       "      <td>bachelor's degree</td>\n",
       "      <td>standard</td>\n",
       "      <td>none</td>\n",
       "      <td>72</td>\n",
       "      <td>72</td>\n",
       "      <td>74</td>\n",
       "    </tr>\n",
       "    <tr>\n",
       "      <th>1</th>\n",
       "      <td>female</td>\n",
       "      <td>group C</td>\n",
       "      <td>some college</td>\n",
       "      <td>standard</td>\n",
       "      <td>completed</td>\n",
       "      <td>69</td>\n",
       "      <td>90</td>\n",
       "      <td>88</td>\n",
       "    </tr>\n",
       "    <tr>\n",
       "      <th>2</th>\n",
       "      <td>female</td>\n",
       "      <td>group B</td>\n",
       "      <td>master's degree</td>\n",
       "      <td>standard</td>\n",
       "      <td>none</td>\n",
       "      <td>90</td>\n",
       "      <td>95</td>\n",
       "      <td>93</td>\n",
       "    </tr>\n",
       "    <tr>\n",
       "      <th>3</th>\n",
       "      <td>male</td>\n",
       "      <td>group A</td>\n",
       "      <td>associate's degree</td>\n",
       "      <td>free/reduced</td>\n",
       "      <td>none</td>\n",
       "      <td>47</td>\n",
       "      <td>57</td>\n",
       "      <td>44</td>\n",
       "    </tr>\n",
       "    <tr>\n",
       "      <th>4</th>\n",
       "      <td>male</td>\n",
       "      <td>group C</td>\n",
       "      <td>some college</td>\n",
       "      <td>standard</td>\n",
       "      <td>none</td>\n",
       "      <td>76</td>\n",
       "      <td>78</td>\n",
       "      <td>75</td>\n",
       "    </tr>\n",
       "  </tbody>\n",
       "</table>\n",
       "</div>"
      ],
      "text/plain": [
       "   gender race/ethnicity parental level of education         lunch  \\\n",
       "0  female        group B           bachelor's degree      standard   \n",
       "1  female        group C                some college      standard   \n",
       "2  female        group B             master's degree      standard   \n",
       "3    male        group A          associate's degree  free/reduced   \n",
       "4    male        group C                some college      standard   \n",
       "\n",
       "  test preparation course  math score  reading score  writing score  \n",
       "0                    none          72             72             74  \n",
       "1               completed          69             90             88  \n",
       "2                    none          90             95             93  \n",
       "3                    none          47             57             44  \n",
       "4                    none          76             78             75  "
      ]
     },
     "execution_count": 3,
     "metadata": {},
     "output_type": "execute_result"
    }
   ],
   "source": [
    "# 데이터셋 로드\n",
    "import pandas as pd\n",
    "\n",
    "students = pd.read_csv('/mnt/elice/dataset/StudentsPerformance.csv')\n",
    "students.head(5)"
   ]
  },
  {
   "cell_type": "markdown",
   "id": "fbe81c56",
   "metadata": {},
   "source": [
    "다음의 요구사항에 맞는 데이터프레임을 출력하세요\n",
    "\n",
    "- `students` 데이터프레임의 `race/ethnicity`가 `group B`인 그룹을 필터합니다.\n",
    "- `gender`가 `male`인 대상을 필터합니다.\n",
    "- `math score`, `reading score`, `writing score`에 대한 `평균(mean)`과 `표준편차(std)`를 출력합니다."
   ]
  },
  {
   "cell_type": "code",
   "execution_count": 11,
   "id": "73fd0176",
   "metadata": {},
   "outputs": [
    {
     "data": {
      "text/html": [
       "<div>\n",
       "<style scoped>\n",
       "    .dataframe tbody tr th:only-of-type {\n",
       "        vertical-align: middle;\n",
       "    }\n",
       "\n",
       "    .dataframe tbody tr th {\n",
       "        vertical-align: top;\n",
       "    }\n",
       "\n",
       "    .dataframe thead th {\n",
       "        text-align: right;\n",
       "    }\n",
       "</style>\n",
       "<table border=\"1\" class=\"dataframe\">\n",
       "  <thead>\n",
       "    <tr style=\"text-align: right;\">\n",
       "      <th></th>\n",
       "      <th>math score</th>\n",
       "      <th>reading score</th>\n",
       "      <th>writing score</th>\n",
       "    </tr>\n",
       "  </thead>\n",
       "  <tbody>\n",
       "    <tr>\n",
       "      <th>mean</th>\n",
       "      <td>65.930233</td>\n",
       "      <td>62.848837</td>\n",
       "      <td>60.220930</td>\n",
       "    </tr>\n",
       "    <tr>\n",
       "      <th>std</th>\n",
       "      <td>14.156928</td>\n",
       "      <td>14.695752</td>\n",
       "      <td>14.854907</td>\n",
       "    </tr>\n",
       "  </tbody>\n",
       "</table>\n",
       "</div>"
      ],
      "text/plain": [
       "      math score  reading score  writing score\n",
       "mean   65.930233      62.848837      60.220930\n",
       "std    14.156928      14.695752      14.854907"
      ]
     },
     "execution_count": 11,
     "metadata": {},
     "output_type": "execute_result"
    }
   ],
   "source": [
    "# 코드를 입력해 주세요\n",
    "cond = (students['race/ethnicity'] == 'group B') & (students['gender'] == 'male')\n",
    "students.loc[cond, ['math score', 'reading score', 'writing score']].agg(['mean', 'std'])"
   ]
  },
  {
   "cell_type": "markdown",
   "id": "5897466e",
   "metadata": {},
   "source": [
    "<p><strong>[출력 결과]</strong></p><div>\n",
    "<style scoped>\n",
    "    .dataframe tbody tr th:only-of-type {\n",
    "        vertical-align: middle;\n",
    "    }\n",
    "\n",
    "    .dataframe tbody tr th {\n",
    "        vertical-align: top;\n",
    "    }\n",
    "\n",
    "    .dataframe thead th {\n",
    "        text-align: right;\n",
    "    }\n",
    "</style>\n",
    "<table border=\"1\" class=\"dataframe\">\n",
    "  <thead>\n",
    "    <tr style=\"text-align: right;\">\n",
    "      <th></th>\n",
    "      <th>math score</th>\n",
    "      <th>reading score</th>\n",
    "      <th>writing score</th>\n",
    "    </tr>\n",
    "  </thead>\n",
    "  <tbody>\n",
    "    <tr>\n",
    "      <th>mean</th>\n",
    "      <td>65.930233</td>\n",
    "      <td>62.848837</td>\n",
    "      <td>60.220930</td>\n",
    "    </tr>\n",
    "    <tr>\n",
    "      <th>std</th>\n",
    "      <td>14.156928</td>\n",
    "      <td>14.695752</td>\n",
    "      <td>14.854907</td>\n",
    "    </tr>\n",
    "  </tbody>\n",
    "</table>\n",
    "</div>"
   ]
  },
  {
   "cell_type": "markdown",
   "id": "a41185a6",
   "metadata": {},
   "source": [
    "다음의 요구사항에 맞는 데이터프레임을 출력하세요\n",
    "\n",
    "- `students`데이터프레임에서 `gender`가 `male`인 대상을 필터합니다.\n",
    "- `lunch`가 `standard` 대상을 필터합니다.\n",
    "- `reading score`가 80 이상인 데이터를 필터합니다.\n",
    "- `math score`, `reading score`, `writing score`에 대한 요약통계(describe)를 출력합니다."
   ]
  },
  {
   "cell_type": "code",
   "execution_count": 14,
   "id": "1cf6b8de",
   "metadata": {},
   "outputs": [
    {
     "data": {
      "text/html": [
       "<div>\n",
       "<style scoped>\n",
       "    .dataframe tbody tr th:only-of-type {\n",
       "        vertical-align: middle;\n",
       "    }\n",
       "\n",
       "    .dataframe tbody tr th {\n",
       "        vertical-align: top;\n",
       "    }\n",
       "\n",
       "    .dataframe thead th {\n",
       "        text-align: right;\n",
       "    }\n",
       "</style>\n",
       "<table border=\"1\" class=\"dataframe\">\n",
       "  <thead>\n",
       "    <tr style=\"text-align: right;\">\n",
       "      <th></th>\n",
       "      <th>math score</th>\n",
       "      <th>reading score</th>\n",
       "      <th>writing score</th>\n",
       "    </tr>\n",
       "  </thead>\n",
       "  <tbody>\n",
       "    <tr>\n",
       "      <th>count</th>\n",
       "      <td>68.000000</td>\n",
       "      <td>68.000000</td>\n",
       "      <td>68.000000</td>\n",
       "    </tr>\n",
       "    <tr>\n",
       "      <th>mean</th>\n",
       "      <td>87.897059</td>\n",
       "      <td>85.470588</td>\n",
       "      <td>82.955882</td>\n",
       "    </tr>\n",
       "    <tr>\n",
       "      <th>std</th>\n",
       "      <td>6.388281</td>\n",
       "      <td>4.872924</td>\n",
       "      <td>6.391304</td>\n",
       "    </tr>\n",
       "    <tr>\n",
       "      <th>min</th>\n",
       "      <td>75.000000</td>\n",
       "      <td>80.000000</td>\n",
       "      <td>71.000000</td>\n",
       "    </tr>\n",
       "    <tr>\n",
       "      <th>25%</th>\n",
       "      <td>83.000000</td>\n",
       "      <td>82.000000</td>\n",
       "      <td>78.000000</td>\n",
       "    </tr>\n",
       "    <tr>\n",
       "      <th>50%</th>\n",
       "      <td>87.000000</td>\n",
       "      <td>84.000000</td>\n",
       "      <td>82.000000</td>\n",
       "    </tr>\n",
       "    <tr>\n",
       "      <th>75%</th>\n",
       "      <td>92.250000</td>\n",
       "      <td>87.000000</td>\n",
       "      <td>86.250000</td>\n",
       "    </tr>\n",
       "    <tr>\n",
       "      <th>max</th>\n",
       "      <td>100.000000</td>\n",
       "      <td>100.000000</td>\n",
       "      <td>100.000000</td>\n",
       "    </tr>\n",
       "  </tbody>\n",
       "</table>\n",
       "</div>"
      ],
      "text/plain": [
       "       math score  reading score  writing score\n",
       "count   68.000000      68.000000      68.000000\n",
       "mean    87.897059      85.470588      82.955882\n",
       "std      6.388281       4.872924       6.391304\n",
       "min     75.000000      80.000000      71.000000\n",
       "25%     83.000000      82.000000      78.000000\n",
       "50%     87.000000      84.000000      82.000000\n",
       "75%     92.250000      87.000000      86.250000\n",
       "max    100.000000     100.000000     100.000000"
      ]
     },
     "execution_count": 14,
     "metadata": {},
     "output_type": "execute_result"
    }
   ],
   "source": [
    "# 코드를 입력해 주세요\n",
    "cond = (students['gender'] == 'male') & (students['lunch'] == 'standard') & (students['reading score'] >= 80)\n",
    "students.loc[cond, ['math score', 'reading score', 'writing score']].describe()"
   ]
  },
  {
   "cell_type": "markdown",
   "id": "9826ed77",
   "metadata": {},
   "source": [
    "<p><strong>[출력 결과]</strong></p><div>\n",
    "<style scoped>\n",
    "    .dataframe tbody tr th:only-of-type {\n",
    "        vertical-align: middle;\n",
    "    }\n",
    "\n",
    "    .dataframe tbody tr th {\n",
    "        vertical-align: top;\n",
    "    }\n",
    "\n",
    "    .dataframe thead th {\n",
    "        text-align: right;\n",
    "    }\n",
    "</style>\n",
    "<table border=\"1\" class=\"dataframe\">\n",
    "  <thead>\n",
    "    <tr style=\"text-align: right;\">\n",
    "      <th></th>\n",
    "      <th>math score</th>\n",
    "      <th>reading score</th>\n",
    "      <th>writing score</th>\n",
    "    </tr>\n",
    "  </thead>\n",
    "  <tbody>\n",
    "    <tr>\n",
    "      <th>count</th>\n",
    "      <td>68.000000</td>\n",
    "      <td>68.000000</td>\n",
    "      <td>68.000000</td>\n",
    "    </tr>\n",
    "    <tr>\n",
    "      <th>mean</th>\n",
    "      <td>87.897059</td>\n",
    "      <td>85.470588</td>\n",
    "      <td>82.955882</td>\n",
    "    </tr>\n",
    "    <tr>\n",
    "      <th>std</th>\n",
    "      <td>6.388281</td>\n",
    "      <td>4.872924</td>\n",
    "      <td>6.391304</td>\n",
    "    </tr>\n",
    "    <tr>\n",
    "      <th>min</th>\n",
    "      <td>75.000000</td>\n",
    "      <td>80.000000</td>\n",
    "      <td>71.000000</td>\n",
    "    </tr>\n",
    "    <tr>\n",
    "      <th>25%</th>\n",
    "      <td>83.000000</td>\n",
    "      <td>82.000000</td>\n",
    "      <td>78.000000</td>\n",
    "    </tr>\n",
    "    <tr>\n",
    "      <th>50%</th>\n",
    "      <td>87.000000</td>\n",
    "      <td>84.000000</td>\n",
    "      <td>82.000000</td>\n",
    "    </tr>\n",
    "    <tr>\n",
    "      <th>75%</th>\n",
    "      <td>92.250000</td>\n",
    "      <td>87.000000</td>\n",
    "      <td>86.250000</td>\n",
    "    </tr>\n",
    "    <tr>\n",
    "      <th>max</th>\n",
    "      <td>100.000000</td>\n",
    "      <td>100.000000</td>\n",
    "      <td>100.000000</td>\n",
    "    </tr>\n",
    "  </tbody>\n",
    "</table>\n",
    "</div>"
   ]
  },
  {
   "cell_type": "markdown",
   "id": "5be66e17",
   "metadata": {},
   "source": [
    "위의 표를 참고하여 `math score`, `reading score`, `writing score`의 IQR을 산정합니다.\n",
    "\n",
    "- IQR(Inter Quantile Range) = ((3rd Quantile, 75%) - (1st Quantile, 25%)) * 1.5\n",
    "  * IQR Bottom = (1st Quantile, 25%) - IQR\n",
    "  * IQR Top: (3rd Quantile, 75%) + IQR"
   ]
  },
  {
   "cell_type": "code",
   "execution_count": 15,
   "id": "6bfbd0d6",
   "metadata": {},
   "outputs": [
    {
     "data": {
      "text/html": [
       "<img src=\"https://img1.daumcdn.net/thumb/R800x0/?scode=mtistory2&fname=https%3A%2F%2Fblog.kakaocdn.net%2Fdn%2FcAqc6V%2FbtqyQLiddUd%2FiXQVu1nYTo2rx3Q8xZBqy0%2Fimg.png\"/>"
      ],
      "text/plain": [
       "<IPython.core.display.Image object>"
      ]
     },
     "execution_count": 15,
     "metadata": {},
     "output_type": "execute_result"
    }
   ],
   "source": [
    "Image(url='https://img1.daumcdn.net/thumb/R800x0/?scode=mtistory2&fname=https%3A%2F%2Fblog.kakaocdn.net%2Fdn%2FcAqc6V%2FbtqyQLiddUd%2FiXQVu1nYTo2rx3Q8xZBqy0%2Fimg.png')"
   ]
  },
  {
   "cell_type": "markdown",
   "id": "38f226e1",
   "metadata": {},
   "source": [
    "위에 명시된 공식을 참고하여 **IQR Bottom**을 산출해 주세요"
   ]
  },
  {
   "cell_type": "code",
   "execution_count": 20,
   "id": "5bb3977d",
   "metadata": {},
   "outputs": [
    {
     "data": {
      "text/plain": [
       "math score      69.125000\n",
       "reading score   74.500000\n",
       "writing score   65.625000\n",
       "dtype: float64"
      ]
     },
     "execution_count": 20,
     "metadata": {},
     "output_type": "execute_result"
    }
   ],
   "source": [
    "# 코드를 입력해 주세요\n",
    "desc = students.loc[cond, ['math score', 'reading score', 'writing score']].describe()\n",
    "iqr = (desc.loc['75%'] - desc.loc['25%']) * 1.5\n",
    "desc.loc['25%'] - iqr"
   ]
  },
  {
   "cell_type": "markdown",
   "id": "e5fe8ede",
   "metadata": {},
   "source": [
    "<p><strong>[출력 결과]</strong></p><pre>math score       69.125\n",
    "reading score    74.500\n",
    "writing score    65.625\n",
    "dtype: float64</pre>"
   ]
  },
  {
   "cell_type": "markdown",
   "id": "e8750977",
   "metadata": {},
   "source": [
    "위에 명시된 공식을 참고하여 **IQR Top**을 산출해 주세요"
   ]
  },
  {
   "cell_type": "code",
   "execution_count": 22,
   "id": "41a4b504",
   "metadata": {},
   "outputs": [
    {
     "data": {
      "text/plain": [
       "math score      106.125000\n",
       "reading score    94.500000\n",
       "writing score    98.625000\n",
       "dtype: float64"
      ]
     },
     "execution_count": 22,
     "metadata": {},
     "output_type": "execute_result"
    }
   ],
   "source": [
    "# 코드를 입력해 주세요\n",
    "desc.loc['75%'] + iqr"
   ]
  },
  {
   "cell_type": "markdown",
   "id": "6a4f56dd",
   "metadata": {},
   "source": [
    "<p><strong>[출력 결과]</strong></p><pre>math score       106.125\n",
    "reading score     94.500\n",
    "writing score     98.625\n",
    "dtype: float64</pre>"
   ]
  },
  {
   "cell_type": "markdown",
   "id": "c67111c0",
   "metadata": {},
   "source": [
    "## 제출\n",
    "\n",
    "제출을 위해 새로 로드된 `/mnt/elice/dataset/StudentsPerformance.csv` 데이터셋에서 다음 요구사항에 맞는 데이터프레임을 `result_df`에 저장하세요.\n",
    "\n",
    "- `students`데이터프레임에서 `gender`가 `male`인 대상을 필터합니다.\n",
    "- `lunch`가 `standard` 대상을 필터합니다.\n",
    "- `reading score`가 80 이상인 데이터를 필터합니다.\n",
    "- `math score`, `reading score`, `writing score`에 대한 요약통계(describe)"
   ]
  },
  {
   "cell_type": "code",
   "execution_count": 27,
   "id": "410d15c3",
   "metadata": {},
   "outputs": [
    {
     "data": {
      "text/html": [
       "<div>\n",
       "<style scoped>\n",
       "    .dataframe tbody tr th:only-of-type {\n",
       "        vertical-align: middle;\n",
       "    }\n",
       "\n",
       "    .dataframe tbody tr th {\n",
       "        vertical-align: top;\n",
       "    }\n",
       "\n",
       "    .dataframe thead th {\n",
       "        text-align: right;\n",
       "    }\n",
       "</style>\n",
       "<table border=\"1\" class=\"dataframe\">\n",
       "  <thead>\n",
       "    <tr style=\"text-align: right;\">\n",
       "      <th></th>\n",
       "      <th>math score</th>\n",
       "      <th>reading score</th>\n",
       "      <th>writing score</th>\n",
       "    </tr>\n",
       "  </thead>\n",
       "  <tbody>\n",
       "    <tr>\n",
       "      <th>count</th>\n",
       "      <td>68.000000</td>\n",
       "      <td>68.000000</td>\n",
       "      <td>68.000000</td>\n",
       "    </tr>\n",
       "    <tr>\n",
       "      <th>mean</th>\n",
       "      <td>87.897059</td>\n",
       "      <td>85.470588</td>\n",
       "      <td>82.955882</td>\n",
       "    </tr>\n",
       "    <tr>\n",
       "      <th>std</th>\n",
       "      <td>6.388281</td>\n",
       "      <td>4.872924</td>\n",
       "      <td>6.391304</td>\n",
       "    </tr>\n",
       "    <tr>\n",
       "      <th>min</th>\n",
       "      <td>75.000000</td>\n",
       "      <td>80.000000</td>\n",
       "      <td>71.000000</td>\n",
       "    </tr>\n",
       "    <tr>\n",
       "      <th>25%</th>\n",
       "      <td>83.000000</td>\n",
       "      <td>82.000000</td>\n",
       "      <td>78.000000</td>\n",
       "    </tr>\n",
       "    <tr>\n",
       "      <th>50%</th>\n",
       "      <td>87.000000</td>\n",
       "      <td>84.000000</td>\n",
       "      <td>82.000000</td>\n",
       "    </tr>\n",
       "    <tr>\n",
       "      <th>75%</th>\n",
       "      <td>92.250000</td>\n",
       "      <td>87.000000</td>\n",
       "      <td>86.250000</td>\n",
       "    </tr>\n",
       "    <tr>\n",
       "      <th>max</th>\n",
       "      <td>100.000000</td>\n",
       "      <td>100.000000</td>\n",
       "      <td>100.000000</td>\n",
       "    </tr>\n",
       "  </tbody>\n",
       "</table>\n",
       "</div>"
      ],
      "text/plain": [
       "       math score  reading score  writing score\n",
       "count   68.000000      68.000000      68.000000\n",
       "mean    87.897059      85.470588      82.955882\n",
       "std      6.388281       4.872924       6.391304\n",
       "min     75.000000      80.000000      71.000000\n",
       "25%     83.000000      82.000000      78.000000\n",
       "50%     87.000000      84.000000      82.000000\n",
       "75%     92.250000      87.000000      86.250000\n",
       "max    100.000000     100.000000     100.000000"
      ]
     },
     "execution_count": 27,
     "metadata": {},
     "output_type": "execute_result"
    }
   ],
   "source": [
    "students = pd.read_csv('/mnt/elice/dataset/StudentsPerformance.csv')\n",
    "cond = (students['gender'] == 'male') & (students['lunch'] == 'standard') & (students['reading score'] >= 80)\n",
    "result_df = students.loc[cond, ['math score', 'reading score', 'writing score']].describe()\n",
    "result_df"
   ]
  },
  {
   "cell_type": "markdown",
   "id": "1b95fd45",
   "metadata": {},
   "source": [
    "## 채점 수행\n",
    "\n",
    "아래 코드는 채점 수행을 위한 코드입니다.\n",
    "\n",
    "따라서 이를 수정했을시 **채점이 제대로 이루어지지 않습니다.**\n",
    "\n",
    "**주의**: 채점 코드를 실행하기 전에 반드시 코드 파일을 한번 저장하시길 바랍니다."
   ]
  },
  {
   "cell_type": "code",
   "execution_count": 28,
   "id": "76ebe6a3",
   "metadata": {},
   "outputs": [
    {
     "name": "stdout",
     "output_type": "stream",
     "text": [
      "send files ['result.json', 'cds_ds_exercise.ipynb'] for grade...\n",
      "waiting result...\n",
      "waiting result...\n",
      "waiting result...\n",
      "done!\n",
      "\n",
      "Score: 100.000000\n",
      "Duration: 2.126 seconds\n",
      "=== Message ===\n",
      "제출 완료되었습니다.\n"
     ]
    },
    {
     "data": {
      "text/plain": [
       "0"
      ]
     },
     "execution_count": 28,
     "metadata": {},
     "output_type": "execute_result"
    }
   ],
   "source": [
    "import os\n",
    "\n",
    "result_df.to_json('result.json')\n",
    "\n",
    "os.system('elice_grade result.json cds_ds_exercise.ipynb')"
   ]
  },
  {
   "cell_type": "code",
   "execution_count": null,
   "id": "d280bcf2",
   "metadata": {},
   "outputs": [],
   "source": []
  }
 ],
 "metadata": {
  "kernelspec": {
   "display_name": "Python 3 (ipykernel)",
   "language": "python",
   "name": "python3"
  },
  "language_info": {
   "codemirror_mode": {
    "name": "ipython",
    "version": 3
   },
   "file_extension": ".py",
   "mimetype": "text/x-python",
   "name": "python",
   "nbconvert_exporter": "python",
   "pygments_lexer": "ipython3",
   "version": "3.10.10"
  },
  "vscode": {
   "interpreter": {
    "hash": "7f165b7dd02acb5f15d9542284b1c771e139a38d08f007b94e9150fcdff51bba"
   }
  }
 },
 "nbformat": 4,
 "nbformat_minor": 5
}
