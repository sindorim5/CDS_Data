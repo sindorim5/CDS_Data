{
 "cells": [
  {
   "cell_type": "markdown",
   "id": "98bff52e",
   "metadata": {},
   "source": [
    "## 단원별 심화 연습 문제"
   ]
  },
  {
   "cell_type": "code",
   "execution_count": 1,
   "id": "56ddd55a",
   "metadata": {},
   "outputs": [],
   "source": [
    "import numpy as np\n",
    "import pandas as pd\n",
    "import seaborn as sns\n",
    "import matplotlib.pyplot as plt\n",
    "import seaborn as sns\n",
    "import glob\n",
    "\n",
    "# set floating point formatting\n",
    "pd.options.display.float_format = '{:,.6f}'.format"
   ]
  },
  {
   "cell_type": "markdown",
   "id": "8c59bf12",
   "metadata": {},
   "source": [
    "### Q3"
   ]
  },
  {
   "cell_type": "markdown",
   "id": "5434a3f2",
   "metadata": {},
   "source": [
    "**범위**\n",
    "- (이전 범위 포함)\n",
    "- 결측치 채우기"
   ]
  },
  {
   "cell_type": "code",
   "execution_count": 7,
   "id": "6845c096",
   "metadata": {},
   "outputs": [
    {
     "data": {
      "text/html": [
       "<div>\n",
       "<style scoped>\n",
       "    .dataframe tbody tr th:only-of-type {\n",
       "        vertical-align: middle;\n",
       "    }\n",
       "\n",
       "    .dataframe tbody tr th {\n",
       "        vertical-align: top;\n",
       "    }\n",
       "\n",
       "    .dataframe thead th {\n",
       "        text-align: right;\n",
       "    }\n",
       "</style>\n",
       "<table border=\"1\" class=\"dataframe\">\n",
       "  <thead>\n",
       "    <tr style=\"text-align: right;\">\n",
       "      <th></th>\n",
       "      <th>survived</th>\n",
       "      <th>pclass</th>\n",
       "      <th>sex</th>\n",
       "      <th>age</th>\n",
       "      <th>sibsp</th>\n",
       "      <th>parch</th>\n",
       "      <th>fare</th>\n",
       "      <th>embarked</th>\n",
       "      <th>class</th>\n",
       "      <th>who</th>\n",
       "      <th>adult_male</th>\n",
       "      <th>deck</th>\n",
       "      <th>embark_town</th>\n",
       "      <th>alive</th>\n",
       "      <th>alone</th>\n",
       "    </tr>\n",
       "  </thead>\n",
       "  <tbody>\n",
       "    <tr>\n",
       "      <th>0</th>\n",
       "      <td>0</td>\n",
       "      <td>3</td>\n",
       "      <td>male</td>\n",
       "      <td>22.000000</td>\n",
       "      <td>1</td>\n",
       "      <td>0</td>\n",
       "      <td>7.250000</td>\n",
       "      <td>S</td>\n",
       "      <td>Third</td>\n",
       "      <td>man</td>\n",
       "      <td>True</td>\n",
       "      <td>NaN</td>\n",
       "      <td>Southampton</td>\n",
       "      <td>no</td>\n",
       "      <td>False</td>\n",
       "    </tr>\n",
       "    <tr>\n",
       "      <th>1</th>\n",
       "      <td>1</td>\n",
       "      <td>1</td>\n",
       "      <td>female</td>\n",
       "      <td>38.000000</td>\n",
       "      <td>1</td>\n",
       "      <td>0</td>\n",
       "      <td>71.283300</td>\n",
       "      <td>C</td>\n",
       "      <td>First</td>\n",
       "      <td>woman</td>\n",
       "      <td>False</td>\n",
       "      <td>C</td>\n",
       "      <td>Cherbourg</td>\n",
       "      <td>yes</td>\n",
       "      <td>False</td>\n",
       "    </tr>\n",
       "    <tr>\n",
       "      <th>2</th>\n",
       "      <td>1</td>\n",
       "      <td>3</td>\n",
       "      <td>female</td>\n",
       "      <td>26.000000</td>\n",
       "      <td>0</td>\n",
       "      <td>0</td>\n",
       "      <td>7.925000</td>\n",
       "      <td>S</td>\n",
       "      <td>Third</td>\n",
       "      <td>woman</td>\n",
       "      <td>False</td>\n",
       "      <td>NaN</td>\n",
       "      <td>Southampton</td>\n",
       "      <td>yes</td>\n",
       "      <td>True</td>\n",
       "    </tr>\n",
       "    <tr>\n",
       "      <th>3</th>\n",
       "      <td>1</td>\n",
       "      <td>1</td>\n",
       "      <td>female</td>\n",
       "      <td>35.000000</td>\n",
       "      <td>1</td>\n",
       "      <td>0</td>\n",
       "      <td>53.100000</td>\n",
       "      <td>S</td>\n",
       "      <td>First</td>\n",
       "      <td>woman</td>\n",
       "      <td>False</td>\n",
       "      <td>C</td>\n",
       "      <td>Southampton</td>\n",
       "      <td>yes</td>\n",
       "      <td>False</td>\n",
       "    </tr>\n",
       "    <tr>\n",
       "      <th>4</th>\n",
       "      <td>0</td>\n",
       "      <td>3</td>\n",
       "      <td>male</td>\n",
       "      <td>35.000000</td>\n",
       "      <td>0</td>\n",
       "      <td>0</td>\n",
       "      <td>8.050000</td>\n",
       "      <td>S</td>\n",
       "      <td>Third</td>\n",
       "      <td>man</td>\n",
       "      <td>True</td>\n",
       "      <td>NaN</td>\n",
       "      <td>Southampton</td>\n",
       "      <td>no</td>\n",
       "      <td>True</td>\n",
       "    </tr>\n",
       "  </tbody>\n",
       "</table>\n",
       "</div>"
      ],
      "text/plain": [
       "   survived  pclass     sex       age  sibsp  parch      fare embarked  class  \\\n",
       "0         0       3    male 22.000000      1      0  7.250000        S  Third   \n",
       "1         1       1  female 38.000000      1      0 71.283300        C  First   \n",
       "2         1       3  female 26.000000      0      0  7.925000        S  Third   \n",
       "3         1       1  female 35.000000      1      0 53.100000        S  First   \n",
       "4         0       3    male 35.000000      0      0  8.050000        S  Third   \n",
       "\n",
       "     who  adult_male deck  embark_town alive  alone  \n",
       "0    man        True  NaN  Southampton    no  False  \n",
       "1  woman       False    C    Cherbourg   yes  False  \n",
       "2  woman       False  NaN  Southampton   yes   True  \n",
       "3  woman       False    C  Southampton   yes  False  \n",
       "4    man        True  NaN  Southampton    no   True  "
      ]
     },
     "execution_count": 7,
     "metadata": {},
     "output_type": "execute_result"
    }
   ],
   "source": [
    "import seaborn as sns\n",
    "\n",
    "titanic = sns.load_dataset('titanic')\n",
    "titanic.head()"
   ]
  },
  {
   "cell_type": "markdown",
   "id": "1170106f",
   "metadata": {},
   "source": [
    "각 **컬럼별 결측치를 출력**하세요"
   ]
  },
  {
   "cell_type": "code",
   "execution_count": 3,
   "id": "e8ff8e0d",
   "metadata": {},
   "outputs": [
    {
     "data": {
      "text/plain": [
       "survived         0\n",
       "pclass           0\n",
       "sex              0\n",
       "age            177\n",
       "sibsp            0\n",
       "parch            0\n",
       "fare             0\n",
       "embarked         2\n",
       "class            0\n",
       "who              0\n",
       "adult_male       0\n",
       "deck           688\n",
       "embark_town      2\n",
       "alive            0\n",
       "alone            0\n",
       "dtype: int64"
      ]
     },
     "execution_count": 3,
     "metadata": {},
     "output_type": "execute_result"
    }
   ],
   "source": [
    "# 코드를 입력해 주세요\n",
    "titanic.isna().sum()"
   ]
  },
  {
   "cell_type": "markdown",
   "id": "d1699eff",
   "metadata": {},
   "source": [
    "<p><strong>[출력 결과]</strong></p><pre>survived         0\n",
    "pclass           0\n",
    "sex              0\n",
    "age            177\n",
    "sibsp            0\n",
    "parch            0\n",
    "fare             0\n",
    "embarked         2\n",
    "class            0\n",
    "who              0\n",
    "adult_male       0\n",
    "deck           688\n",
    "embark_town      2\n",
    "alive            0\n",
    "alone            0\n",
    "dtype: int64</pre>"
   ]
  },
  {
   "cell_type": "markdown",
   "id": "4d5b6848",
   "metadata": {},
   "source": [
    "`age` 컬럼의 결측 데이터를 다음의 조건에 맞도록 채워 주세요\n",
    "\n",
    "- `who`가 `man`인 데이터는 결측치가 아닌 `age` 컬럼의 **median**으로 결측치를 채워주세요\n",
    "- `who`가 `woman`인 데이터는 결측치가 아닌 `age` 컬럼의 **25% Quantile 값**으로 결측치를 채워주세요\n",
    "- `who`가 `child`인 데이터는 결측치가 아닌 `age` 컬럼의 **평균**으로 결측치를 채워주세요"
   ]
  },
  {
   "cell_type": "code",
   "execution_count": 8,
   "id": "29620848",
   "metadata": {},
   "outputs": [
    {
     "data": {
      "text/plain": [
       "0"
      ]
     },
     "execution_count": 8,
     "metadata": {},
     "output_type": "execute_result"
    }
   ],
   "source": [
    "# 코드를 입력해 주세요\n",
    "cond1 = (titanic['who'] == 'man')\n",
    "cond1_age = titanic.loc[cond1, 'age'].median()\n",
    "titanic.loc[cond1, 'age'] = titanic.loc[cond1, 'age'].fillna(cond1_age)\n",
    "\n",
    "cond2 = (titanic['who'] == 'woman')\n",
    "cond2_age = titanic.loc[cond2, 'age'].quantile(0.25)\n",
    "titanic.loc[cond2, 'age'] = titanic.loc[cond2, 'age'].fillna(cond2_age)\n",
    "\n",
    "cond3 = (titanic['who'] == 'child')\n",
    "cond3_age = titanic.loc[cond3, 'age'].mean()\n",
    "titanic.loc[cond3, 'age'] = titanic.loc[cond3, 'age'].fillna(cond3_age)\n",
    "\n",
    "titanic['age'].isnull().sum()"
   ]
  },
  {
   "cell_type": "code",
   "execution_count": 9,
   "id": "ef2399fb",
   "metadata": {},
   "outputs": [
    {
     "name": "stdout",
     "output_type": "stream",
     "text": [
      "결측치: 0\n",
      "age mean: 29.3425\n"
     ]
    }
   ],
   "source": [
    "# 검증코드\n",
    "print(f\"결측치: {titanic['age'].isnull().sum()}\")\n",
    "print(f\"age mean: {titanic['age'].mean():.4f}\")"
   ]
  },
  {
   "cell_type": "markdown",
   "id": "740d869c",
   "metadata": {},
   "source": [
    "<p><strong>[출력 결과]</strong></p><pre>결측치: 0\n",
    "age mean: 29.3425\n",
    "</pre>"
   ]
  },
  {
   "cell_type": "markdown",
   "id": "b325d5e2",
   "metadata": {},
   "source": [
    "## 제출\n",
    "\n",
    "제출을 위해 새로 로드된 타이타닉 데이터셋에서 `age` 컬럼의 결측치를 다음 조건에 맞춰 채운 결과를 `result_df`에 저장하세요.\n",
    "\n",
    "- `who`가 `man`인 데이터는 결측치가 아닌 `age` 컬럼의 **median**으로 결측치를 채워주세요\n",
    "- `who`가 `woman`인 데이터는 결측치가 아닌 `age` 컬럼의 **25% Quantile 값**으로 결측치를 채워주세요\n",
    "- `who`가 `child`인 데이터는 결측치가 아닌 `age` 컬럼의 **평균**으로 결측치를 채워주세요"
   ]
  },
  {
   "cell_type": "code",
   "execution_count": 10,
   "id": "200bce5d",
   "metadata": {},
   "outputs": [],
   "source": [
    "titanic = sns.load_dataset('titanic')\n",
    "\n",
    "cond1 = (titanic['who'] == 'man')\n",
    "cond1_age = titanic.loc[cond1, 'age'].median()\n",
    "titanic.loc[cond1, 'age'] = titanic.loc[cond1, 'age'].fillna(cond1_age)\n",
    "\n",
    "cond2 = (titanic['who'] == 'woman')\n",
    "cond2_age = titanic.loc[cond2, 'age'].quantile(0.25)\n",
    "titanic.loc[cond2, 'age'] = titanic.loc[cond2, 'age'].fillna(cond2_age)\n",
    "\n",
    "cond3 = (titanic['who'] == 'child')\n",
    "cond3_age = titanic.loc[cond3, 'age'].mean()\n",
    "titanic.loc[cond3, 'age'] = titanic.loc[cond3, 'age'].fillna(cond3_age)\n",
    "\n",
    "result_df = titanic.copy()"
   ]
  },
  {
   "cell_type": "markdown",
   "id": "c412ecfe",
   "metadata": {},
   "source": [
    "## 채점 수행\n",
    "\n",
    "아래 코드는 채점 수행을 위한 코드입니다.\n",
    "\n",
    "따라서 이를 수정했을시 **채점이 제대로 이루어지지 않습니다.**\n",
    "\n",
    "**주의**: 채점 코드를 실행하기 전에 반드시 코드 파일을 한번 저장하시길 바랍니다."
   ]
  },
  {
   "cell_type": "code",
   "execution_count": 11,
   "id": "841b1fb4",
   "metadata": {},
   "outputs": [
    {
     "name": "stdout",
     "output_type": "stream",
     "text": [
      "send files ['result.json', 'cds_ds_exercise.ipynb'] for grade...\n",
      "waiting result...\n",
      "waiting result...\n",
      "waiting result...\n",
      "done!\n",
      "\n",
      "Score: 100.000000\n",
      "Duration: 2.837 seconds\n",
      "=== Message ===\n",
      "제출 완료되었습니다.\n"
     ]
    },
    {
     "data": {
      "text/plain": [
       "0"
      ]
     },
     "execution_count": 11,
     "metadata": {},
     "output_type": "execute_result"
    }
   ],
   "source": [
    "import os\n",
    "\n",
    "result_df.to_json('result.json')\n",
    "\n",
    "os.system('elice_grade result.json cds_ds_exercise.ipynb')"
   ]
  },
  {
   "cell_type": "code",
   "execution_count": null,
   "id": "8484719a",
   "metadata": {},
   "outputs": [],
   "source": []
  }
 ],
 "metadata": {
  "kernelspec": {
   "display_name": "Python 3 (ipykernel)",
   "language": "python",
   "name": "python3"
  },
  "language_info": {
   "codemirror_mode": {
    "name": "ipython",
    "version": 3
   },
   "file_extension": ".py",
   "mimetype": "text/x-python",
   "name": "python",
   "nbconvert_exporter": "python",
   "pygments_lexer": "ipython3",
   "version": "3.10.10"
  },
  "vscode": {
   "interpreter": {
    "hash": "7f165b7dd02acb5f15d9542284b1c771e139a38d08f007b94e9150fcdff51bba"
   }
  }
 },
 "nbformat": 4,
 "nbformat_minor": 5
}
